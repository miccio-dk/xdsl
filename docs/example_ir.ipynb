{
 "cells": [
  {
   "cell_type": "markdown",
   "id": "5729f383",
   "metadata": {},
   "source": [
    "# Getting a simple dialect to work\n",
    "\n",
    "In this example, we show how to use the xDSL core infrastructure to define some simple abstractions for a database compiler. Furthermore, we show uses of the rewrite engine to rewrite the data structures.\n"
   ]
  },
  {
   "cell_type": "markdown",
   "id": "1b5c461b",
   "metadata": {},
   "source": [
    "As a first step, we decide to work on bag-like structures, so we decide to implement an Attribute corresponding to a bag type."
   ]
  },
  {
   "cell_type": "code",
   "execution_count": 67,
   "id": "7aaf5d7c",
   "metadata": {},
   "outputs": [],
   "source": [
    "from xdsl.ir import ParametrizedAttribute\n",
    "from xdsl.irdl import irdl_attr_definition, ParameterDef, AnyAttr\n",
    "\n",
    "@irdl_attr_definition\n",
    "class Bag(ParametrizedAttribute):\n",
    "  name = \"sql.bag\"\n",
    "  schema: ParameterDef[AnyAttr()]"
   ]
  },
  {
   "cell_type": "markdown",
   "id": "c099a196",
   "metadata": {},
   "source": [
    "Instantiating this Attribute with an i32, and then printing it, looks like the following:"
   ]
  },
  {
   "cell_type": "code",
   "execution_count": 68,
   "id": "497c67b9",
   "metadata": {},
   "outputs": [
    {
     "name": "stdout",
     "output_type": "stream",
     "text": [
      "!sql.bag<!i32>"
     ]
    }
   ],
   "source": [
    "from xdsl.printer import Printer\n",
    "from xdsl.dialects.builtin import i32\n",
    "\n",
    "printer = Printer()\n",
    "printer.print_attribute(Bag([i32]))"
   ]
  },
  {
   "cell_type": "markdown",
   "id": "6879da8f",
   "metadata": {},
   "source": [
    "Secondly, we define an abstraction modeling a table."
   ]
  },
  {
   "cell_type": "code",
   "execution_count": 69,
   "id": "e9fad9ec",
   "metadata": {},
   "outputs": [],
   "source": [
    "from xdsl.ir import Operation\n",
    "from xdsl.irdl import irdl_op_definition, AttributeDef, OpResult\n",
    "from xdsl.dialects.builtin import StringAttr\n",
    "from typing import Annotated\n",
    "\n",
    "\n",
    "@irdl_op_definition\n",
    "class Table(Operation):\n",
    "  name = \"sql.table\"\n",
    "  table_name = AttributeDef(StringAttr)\n",
    "  result_bag: Annotated[OpResult, Bag]"
   ]
  },
  {
   "cell_type": "markdown",
   "id": "ba73a528",
   "metadata": {},
   "source": [
    "Using this operation, we can create the first full query:\n",
    "\n",
    "```sql\n",
    "SELECT * from T\n",
    "```"
   ]
  },
  {
   "cell_type": "code",
   "execution_count": 70,
   "id": "b0b135d3",
   "metadata": {},
   "outputs": [
    {
     "name": "stdout",
     "output_type": "stream",
     "text": [
      "%0 : !sql.bag<!i32> = sql.table() [\"table_name\" = \"T\"]\n"
     ]
    }
   ],
   "source": [
    "t = Table.build(attributes={\"table_name\":StringAttr.from_str(\"T\")}, result_types=[Bag([(i32)])])\n",
    "printer.print_op(t)"
   ]
  },
  {
   "cell_type": "markdown",
   "id": "20bbbc22",
   "metadata": {},
   "source": [
    "In xDSL, all IRs need a ModuleOp as the outermost Operation."
   ]
  },
  {
   "cell_type": "code",
   "execution_count": 71,
   "id": "e2558b73",
   "metadata": {},
   "outputs": [
    {
     "name": "stdout",
     "output_type": "stream",
     "text": [
      "builtin.module() {\n",
      "  %0 : !sql.bag<!i32> = sql.table() [\"table_name\" = \"T\"]\n",
      "}\n"
     ]
    }
   ],
   "source": [
    "from xdsl.dialects.builtin import ModuleOp\n",
    "from xdsl.ir import Region\n",
    "\n",
    "m = ModuleOp.from_region_or_ops([t])\n",
    "printer.print(m)"
   ]
  },
  {
   "cell_type": "markdown",
   "id": "60b44586",
   "metadata": {},
   "source": [
    "In this example, the SSAValue %0 is just flying around. We want to make sure it is actually bound to somewhere, such that we now what to do with it during compilation. Therefore, we introduce a SinkOp, which returns the data in the bag to the executor of the Query."
   ]
  },
  {
   "cell_type": "code",
   "execution_count": 72,
   "id": "405145b5",
   "metadata": {},
   "outputs": [],
   "source": [
    "from xdsl.irdl import Operand\n",
    "\n",
    "@irdl_op_definition\n",
    "class SinkOp(Operation):\n",
    "  name = \"sql.sink\"\n",
    "  bag: Annotated[Operand, Bag]"
   ]
  },
  {
   "cell_type": "code",
   "execution_count": 73,
   "id": "348156c8",
   "metadata": {},
   "outputs": [],
   "source": [
    "m.body.blocks[0].add_op(SinkOp.build(operands=[t]))"
   ]
  },
  {
   "cell_type": "code",
   "execution_count": 74,
   "id": "48cd9bff",
   "metadata": {},
   "outputs": [
    {
     "name": "stdout",
     "output_type": "stream",
     "text": [
      "builtin.module() {\n",
      "  %0 : !sql.bag<!i32> = sql.table() [\"table_name\" = \"T\"]\n",
      "  sql.sink(%0 : !sql.bag<!i32>)\n",
      "}\n"
     ]
    }
   ],
   "source": [
    "printer.print(m)"
   ]
  },
  {
   "cell_type": "markdown",
   "id": "f10c513f",
   "metadata": {},
   "source": [
    "Obviously, we want to do more involved stuff. Say we would like to abstract something like:\n",
    "\n",
    "```SQL\n",
    "SELECT * from T \n",
    "WHERE T.a < 5\n",
    "```\n",
    "\n",
    "In order to abstract this, we need an abstraction for selections, which we decided to make an operation. The actual condition to filter becomes a nested region. Additionally, we decide to reuse dialects already defined within xDSL, in particular the arith dialect."
   ]
  },
  {
   "cell_type": "code",
   "execution_count": 75,
   "id": "ff621a44",
   "metadata": {},
   "outputs": [],
   "source": [
    "from xdsl.irdl import RegionDef\n",
    "\n",
    "@irdl_op_definition\n",
    "class Selection(Operation):\n",
    "  name = \"sql.selection\"\n",
    "  input_bag: Annotated[Operand, Bag]\n",
    "  filter = RegionDef()\n",
    "  result_bag: Annotated[OpResult, Bag]"
   ]
  },
  {
   "cell_type": "markdown",
   "id": "f668a3d1",
   "metadata": {},
   "source": [
    "We instantiate this in two steps. First, we build the filter region:"
   ]
  },
  {
   "cell_type": "code",
   "execution_count": 76,
   "id": "e38541ac",
   "metadata": {},
   "outputs": [],
   "source": [
    "from xdsl.ir import Block\n",
    "from xdsl.dialects.arith import Constant, Cmpi\n",
    "from xdsl.dialects.scf import Yield\n",
    "\n",
    "filter = Region.from_block_list([Block.from_callable(\n",
    "    [i32], # filter argument\n",
    "    lambda arg: [\n",
    "        const := Constant.from_int_and_width(5, 32),\n",
    "        cmp := Cmpi.from_mnemonic(arg, const, \"sgt\"),\n",
    "        Yield.get(cmp)\n",
    "    ])])"
   ]
  },
  {
   "cell_type": "code",
   "execution_count": 77,
   "id": "c8d39679",
   "metadata": {},
   "outputs": [
    {
     "name": "stdout",
     "output_type": "stream",
     "text": [
      "%1 : !sql.bag<!i32> = sql.selection(%0 : !sql.bag<!i32>) {\n",
      "^0(%2 : !i32):\n",
      "  %3 : !i32 = arith.constant() [\"value\" = 5 : !i32]\n",
      "  %4 : !i1 = arith.cmpi(%2 : !i32, %3 : !i32) [\"predicate\" = 4 : !i64]\n",
      "  scf.yield(%4 : !i1)\n",
      "}\n"
     ]
    }
   ],
   "source": [
    "sel = Selection.build(\n",
    "    result_types=[Bag([i32])],\n",
    "    operands=[t],\n",
    "    regions=[filter])\n",
    "\n",
    "printer.print_op(sel)"
   ]
  },
  {
   "cell_type": "code",
   "execution_count": null,
   "id": "4e46b68f",
   "metadata": {},
   "outputs": [],
   "source": []
  }
 ],
 "metadata": {
  "kernelspec": {
   "display_name": "Python 3 (ipykernel)",
   "language": "python",
   "name": "python3"
  },
  "language_info": {
   "codemirror_mode": {
    "name": "ipython",
    "version": 3
   },
   "file_extension": ".py",
   "mimetype": "text/x-python",
   "name": "python",
   "nbconvert_exporter": "python",
   "pygments_lexer": "ipython3",
   "version": "3.10.6"
  }
 },
 "nbformat": 4,
 "nbformat_minor": 5
}
